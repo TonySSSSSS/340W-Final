{
  "nbformat": 4,
  "nbformat_minor": 0,
  "metadata": {
    "colab": {
      "provenance": [],
      "gpuType": "A100",
      "machine_shape": "hm"
    },
    "kernelspec": {
      "name": "python3",
      "display_name": "Python 3"
    },
    "language_info": {
      "name": "python"
    },
    "accelerator": "GPU"
  },
  "cells": [
    {
      "cell_type": "code",
      "source": [
        "# 0. Set up the environment"
      ],
      "metadata": {
        "id": "rIM0AKiJpNc4"
      },
      "execution_count": null,
      "outputs": []
    },
    {
      "cell_type": "code",
      "source": [
        "import os\n",
        "import cv2\n",
        "import matplotlib.pyplot as plt\n",
        "import seaborn as sns\n",
        "from sklearn.model_selection import train_test_split\n",
        "from sklearn.metrics import classification_report\n",
        "import tensorflow as tf\n",
        "from tensorflow.keras.models import Sequential\n",
        "from tensorflow.keras.layers import Conv2D, MaxPooling2D, Flatten, Dense, Dropout, BatchNormalization\n",
        "from tensorflow.keras.optimizers import Adam\n",
        "from tensorflow.keras.preprocessing.image import ImageDataGenerator"
      ],
      "metadata": {
        "id": "sv-i7bU5bvUN"
      },
      "execution_count": 165,
      "outputs": []
    },
    {
      "cell_type": "code",
      "source": [
        "from google.colab import drive\n",
        "drive.mount('/content/drive')"
      ],
      "metadata": {
        "colab": {
          "base_uri": "https://localhost:8080/"
        },
        "id": "th5mdxgzgDPP",
        "outputId": "ef0e84cc-9530-4ccb-898e-deb1424b669b"
      },
      "execution_count": 166,
      "outputs": [
        {
          "output_type": "stream",
          "name": "stdout",
          "text": [
            "Drive already mounted at /content/drive; to attempt to forcibly remount, call drive.mount(\"/content/drive\", force_remount=True).\n"
          ]
        }
      ]
    },
    {
      "cell_type": "code",
      "source": [
        "%cd '/content/drive/MyDrive/Colab Notebooks'\n",
        "import zipfile\n",
        "import os\n",
        "\n",
        "zip_path = 'Concrete Crack Images for Classification.zip'\n",
        "extract_to = '/content/crack_images1'\n",
        "\n",
        "os.makedirs(extract_to, exist_ok=True)\n",
        "\n",
        "with zipfile.ZipFile(zip_path, 'r') as zip_ref:\n",
        "    zip_ref.extractall(extract_to)\n",
        "\n",
        "print(\"Zip file extraction complete！\")\n"
      ],
      "metadata": {
        "colab": {
          "base_uri": "https://localhost:8080/"
        },
        "id": "igMrFvvQcPp4",
        "outputId": "3a91a1ce-ebb5-41e3-c12f-a1f9a6bae8f8"
      },
      "execution_count": 167,
      "outputs": [
        {
          "output_type": "stream",
          "name": "stdout",
          "text": [
            "/content/drive/MyDrive/Colab Notebooks\n",
            "Zip file extraction complete！\n"
          ]
        }
      ]
    },
    {
      "cell_type": "code",
      "source": [
        "!ls /content/crack_images1\n",
        "!ls '/content/crack_images1/Concrete Crack Images for Classification'\n"
      ],
      "metadata": {
        "colab": {
          "base_uri": "https://localhost:8080/"
        },
        "id": "_YdQIAtGcTBn",
        "outputId": "da97cada-eb80-4a6b-8d94-767754b26cae"
      },
      "execution_count": 168,
      "outputs": [
        {
          "output_type": "stream",
          "name": "stdout",
          "text": [
            "'Concrete Crack Images for Classification'   __MACOSX\n",
            "Negative  Positive\n"
          ]
        }
      ]
    },
    {
      "cell_type": "code",
      "source": [
        "# 1. Set image parameters / 设置参数\n",
        "image_size = 120  # Resize target size for images\n",
        "base_path = '/content/crack_images1/Concrete Crack Images for Classification'\n",
        "categories = ['Negative', 'Positive']\n",
        "max_images_per_class = 20000  # Max images per class to load"
      ],
      "metadata": {
        "id": "dE1llks-bwX6"
      },
      "execution_count": 169,
      "outputs": []
    },
    {
      "cell_type": "code",
      "source": [
        "# 2. Load and preprocess images with tone equalization and enhancement / 图像读取 + 色调均衡 + 灰度转换\n",
        "def load_and_process_images(folder_path):\n",
        "    data = []\n",
        "    for label_index, label in enumerate(categories):\n",
        "        class_folder = os.path.join(folder_path, label)\n",
        "        count = 0\n",
        "        for filename in os.listdir(class_folder):\n",
        "            if count >= max_images_per_class:\n",
        "                break\n",
        "            img_path = os.path.join(class_folder, filename)\n",
        "            img = cv2.imread(img_path)\n",
        "\n",
        "            if img is not None:\n",
        "                # Equalize / 色调均化\n",
        "                yuv = cv2.cvtColor(img, cv2.COLOR_BGR2YUV)\n",
        "                yuv[..., 0] = cv2.equalizeHist(yuv[..., 0])\n",
        "                eq_img = cv2.cvtColor(yuv, cv2.COLOR_YUV2BGR)\n",
        "\n",
        "                # Invert if image is too bright / 灰度转换\n",
        "                if np.mean(gray_img) > 127:\n",
        "                    gray_img = 255 - gray_img\n",
        "\n",
        "                # Denoise with Gaussian blur / 高斯模糊\n",
        "                gray_img = cv2.GaussianBlur(gray_img, (3, 3), 0)\n",
        "\n",
        "                # Resize to uniform size / 尺寸调整\n",
        "                resized = cv2.resize(gray_img, (image_size, image_size))\n",
        "\n",
        "                # Append image and label / 保存图像与标签\n",
        "                data.append([resized, label_index])\n",
        "                count += 1\n",
        "\n",
        "    return np.array(data, dtype=object)\n",
        "\n",
        "    # Load dataset after function definition\n",
        "    dataset = load_and_process_images(base_path)"
      ],
      "metadata": {
        "id": "bbG5l_PhbxUC"
      },
      "execution_count": 170,
      "outputs": []
    },
    {
      "cell_type": "code",
      "source": [
        "# 3. Split features and labels + normalize / 分离特征和标签，并归一化\n",
        "X, Y = [], []\n",
        "for img, lbl in dataset:\n",
        "    X.append(img)\n",
        "    Y.append(lbl)\n",
        "X = np.array(X).reshape(-1, image_size, image_size, 1) / 255.0\n",
        "Y = np.array(Y)"
      ],
      "metadata": {
        "id": "dcrhDjE3bypy"
      },
      "execution_count": 171,
      "outputs": []
    },
    {
      "cell_type": "code",
      "source": [
        "# 4. Split into training and validation sets / 训练集/验证集划分\n",
        "X_train, X_val, Y_train, Y_val = train_test_split(X, Y, test_size=0.25, random_state=42)"
      ],
      "metadata": {
        "id": "gSMpJWy8bzsA"
      },
      "execution_count": 172,
      "outputs": []
    },
    {
      "cell_type": "code",
      "source": [
        "# 5. Define CNN model structure / CNN模型定义\n",
        "model = Sequential([\n",
        "    Conv2D(64, (3, 3), activation='relu', padding='same', input_shape=X_train.shape[1:]),\n",
        "    MaxPooling2D(),\n",
        "\n",
        "    Conv2D(128, (3, 3), activation='relu', padding='same'),\n",
        "    MaxPooling2D(),\n",
        "\n",
        "    Conv2D(128, (3, 3), activation='relu', padding='same'),\n",
        "    MaxPooling2D(),\n",
        "\n",
        "    Conv2D(256, (3, 3), activation='relu', padding='same'),\n",
        "    MaxPooling2D(),\n",
        "\n",
        "    Conv2D(256, (3, 3), activation='relu', padding='same'),\n",
        "    MaxPooling2D(),\n",
        "\n",
        "    Flatten(),\n",
        "    Dense(256, activation='relu'),\n",
        "    Dropout(0.4),\n",
        "    BatchNormalization(),\n",
        "    # Output layer for 2 classes\n",
        "    Dense(2, activation='softmax')\n",
        "])\n",
        "\n",
        "# Compile model\n",
        "model.compile(optimizer=Adam(1e-5), loss='sparse_categorical_crossentropy', metrics=['accuracy'])"
      ],
      "metadata": {
        "id": "q05M6hTPb1u1",
        "colab": {
          "base_uri": "https://localhost:8080/"
        },
        "outputId": "b7070a77-3ad9-4fb8-f88f-b035f67969b9"
      },
      "execution_count": 173,
      "outputs": [
        {
          "output_type": "stream",
          "name": "stderr",
          "text": [
            "/usr/local/lib/python3.11/dist-packages/keras/src/layers/convolutional/base_conv.py:107: UserWarning: Do not pass an `input_shape`/`input_dim` argument to a layer. When using Sequential models, prefer using an `Input(shape)` object as the first layer in the model instead.\n",
            "  super().__init__(activity_regularizer=activity_regularizer, **kwargs)\n"
          ]
        }
      ]
    },
    {
      "cell_type": "code",
      "source": [
        "# Data augmentation setup\n",
        "aug = ImageDataGenerator(\n",
        "    rotation_range=10,\n",
        "    width_shift_range=0.05,\n",
        "    height_shift_range=0.05,\n",
        "    zoom_range=0.1\n",
        ")\n",
        "aug.fit(X_train)"
      ],
      "metadata": {
        "id": "EecJnYcdtOkZ"
      },
      "execution_count": 174,
      "outputs": []
    },
    {
      "cell_type": "markdown",
      "source": [
        "It helps us “make more training pictures.” For example, it turns, shifts, or zooms the original pictures a little to create new ones that look different but are still similar. This way, the model gets smarter and can recognize cracks even in pictures it hasn't seen before."
      ],
      "metadata": {
        "id": "IuVsK0jEEaRE"
      }
    },
    {
      "cell_type": "code",
      "source": [
        "# 6. Train the model / 模型训练\n",
        "history = model.fit(aug.flow(X_train, Y_train, batch_size=64),\n",
        "                    epochs=15,\n",
        "                    validation_data=(X_val, Y_val),\n",
        "                    verbose=2)"
      ],
      "metadata": {
        "id": "FNG25inrb2Po",
        "colab": {
          "base_uri": "https://localhost:8080/"
        },
        "outputId": "acaf1129-0fe4-4b72-a3da-cbd10a59e9b0"
      },
      "execution_count": 175,
      "outputs": [
        {
          "output_type": "stream",
          "name": "stdout",
          "text": [
            "Epoch 1/15\n"
          ]
        },
        {
          "output_type": "stream",
          "name": "stderr",
          "text": [
            "/usr/local/lib/python3.11/dist-packages/keras/src/trainers/data_adapters/py_dataset_adapter.py:121: UserWarning: Your `PyDataset` class should call `super().__init__(**kwargs)` in its constructor. `**kwargs` can include `workers`, `use_multiprocessing`, `max_queue_size`. Do not pass these arguments to `fit()`, as they will be ignored.\n",
            "  self._warn_if_super_not_called()\n"
          ]
        },
        {
          "output_type": "stream",
          "name": "stdout",
          "text": [
            "469/469 - 42s - 89ms/step - accuracy: 0.7857 - loss: 0.4517 - val_accuracy: 0.8849 - val_loss: 0.4575\n",
            "Epoch 2/15\n",
            "469/469 - 34s - 74ms/step - accuracy: 0.9039 - loss: 0.2547 - val_accuracy: 0.8858 - val_loss: 0.2945\n",
            "Epoch 3/15\n",
            "469/469 - 34s - 73ms/step - accuracy: 0.9401 - loss: 0.1689 - val_accuracy: 0.7512 - val_loss: 0.7765\n",
            "Epoch 4/15\n",
            "469/469 - 34s - 72ms/step - accuracy: 0.9529 - loss: 0.1379 - val_accuracy: 0.7681 - val_loss: 0.7270\n",
            "Epoch 5/15\n",
            "469/469 - 34s - 73ms/step - accuracy: 0.9585 - loss: 0.1195 - val_accuracy: 0.9344 - val_loss: 0.1758\n",
            "Epoch 6/15\n",
            "469/469 - 34s - 73ms/step - accuracy: 0.9638 - loss: 0.1058 - val_accuracy: 0.7115 - val_loss: 0.9714\n",
            "Epoch 7/15\n",
            "469/469 - 34s - 72ms/step - accuracy: 0.9686 - loss: 0.0945 - val_accuracy: 0.8853 - val_loss: 0.3401\n",
            "Epoch 8/15\n",
            "469/469 - 34s - 72ms/step - accuracy: 0.9696 - loss: 0.0897 - val_accuracy: 0.8379 - val_loss: 0.4659\n",
            "Epoch 9/15\n",
            "469/469 - 34s - 73ms/step - accuracy: 0.9739 - loss: 0.0775 - val_accuracy: 0.8381 - val_loss: 0.4746\n",
            "Epoch 10/15\n",
            "469/469 - 35s - 74ms/step - accuracy: 0.9759 - loss: 0.0709 - val_accuracy: 0.8943 - val_loss: 0.2720\n",
            "Epoch 11/15\n",
            "469/469 - 34s - 73ms/step - accuracy: 0.9777 - loss: 0.0653 - val_accuracy: 0.9703 - val_loss: 0.0803\n",
            "Epoch 12/15\n",
            "469/469 - 34s - 73ms/step - accuracy: 0.9791 - loss: 0.0626 - val_accuracy: 0.9238 - val_loss: 0.2090\n",
            "Epoch 13/15\n",
            "469/469 - 34s - 73ms/step - accuracy: 0.9815 - loss: 0.0561 - val_accuracy: 0.7456 - val_loss: 0.7143\n",
            "Epoch 14/15\n",
            "469/469 - 35s - 74ms/step - accuracy: 0.9829 - loss: 0.0525 - val_accuracy: 0.9242 - val_loss: 0.2024\n",
            "Epoch 15/15\n",
            "469/469 - 34s - 73ms/step - accuracy: 0.9834 - loss: 0.0491 - val_accuracy: 0.9855 - val_loss: 0.0451\n"
          ]
        }
      ]
    },
    {
      "cell_type": "code",
      "source": [
        "# 7. Plot training and validation accuracy/loss / 绘图\n",
        "plt.figure(figsize=(12, 5))\n",
        "plt.subplot(1, 2, 1)\n",
        "plt.plot(history.history['accuracy'], label='Train')\n",
        "plt.plot(history.history['val_accuracy'], label='Validation')\n",
        "plt.title('Model Accuracy')\n",
        "plt.legend()\n",
        "\n",
        "plt.subplot(1, 2, 2)\n",
        "plt.plot(history.history['loss'], label='Train')\n",
        "plt.plot(history.history['val_loss'], label='Validation')\n",
        "plt.title('Model Loss')\n",
        "plt.legend()\n",
        "plt.tight_layout()\n",
        "plt.show()"
      ],
      "metadata": {
        "id": "STmlxjTDb2J0",
        "colab": {
          "base_uri": "https://localhost:8080/",
          "height": 507
        },
        "outputId": "90657aba-70c1-46b1-fd9d-3395a436a36d"
      },
      "execution_count": 178,
      "outputs": [
        {
          "output_type": "display_data",
          "data": {
            "text/plain": [
              "<Figure size 1200x500 with 2 Axes>"
            ],
            "image/png": "[encoded data removed]"
          },
          "metadata": {}
        }
      ]
    },
    {
      "cell_type": "code",
      "source": [
        "# 8. Print classification report / 分类报告\n",
        "val_preds = model.predict(X_val)\n",
        "val_labels = np.argmax(val_preds, axis=1)\n",
        "print(classification_report(Y_val, val_labels, target_names=categories))"
      ],
      "metadata": {
        "id": "e3ligbl4b1-e",
        "colab": {
          "base_uri": "https://localhost:8080/"
        },
        "outputId": "ade1fbc5-a4de-404c-f9ec-d4736a160e80"
      },
      "execution_count": 179,
      "outputs": [
        {
          "output_type": "stream",
          "name": "stdout",
          "text": [
            "\u001b[1m313/313\u001b[0m \u001b[32m━━━━━━━━━━━━━━━━━━━━\u001b[0m\u001b[37m\u001b[0m \u001b[1m1s\u001b[0m 4ms/step\n",
            "              precision    recall  f1-score   support\n",
            "\n",
            "    Negative       0.99      0.98      0.99      5021\n",
            "    Positive       0.98      0.99      0.99      4979\n",
            "\n",
            "    accuracy                           0.99     10000\n",
            "   macro avg       0.99      0.99      0.99     10000\n",
            "weighted avg       0.99      0.99      0.99     10000\n",
            "\n"
          ]
        }
      ]
    },
    {
      "cell_type": "code",
      "source": [
        "import glob\n",
        "\n",
        "# 9. Prediction function for single image\n",
        "def test_accuracy_on_folder(folder_path):\n",
        "    test_images = glob.glob(os.path.join(folder_path, \"*\"))  # Get list of all image files in folder\n",
        "    total = len(test_images)\n",
        "\n",
        "    # Output = 🚧 if you don't have a correct input\n",
        "    if total == 0:\n",
        "        print(\"Testing image not available / Test image不存在\")\n",
        "        return\n",
        "\n",
        "    crack_count = 0\n",
        "    no_crack_count = 0\n",
        "\n",
        "    for path in test_images:\n",
        "        img = cv2.imread(path)  # Load each image\n",
        "        if img is None:\n",
        "            continue\n",
        "\n",
        "        # Same preprocessing as training: tone equalization, grayscale, inversion\n",
        "        yuv = cv2.cvtColor(img, cv2.COLOR_BGR2YUV)\n",
        "        yuv[..., 0] = cv2.equalizeHist(yuv[..., 0])\n",
        "        eq_img = cv2.cvtColor(yuv, cv2.COLOR_YUV2BGR)\n",
        "        gray_img = cv2.cvtColor(eq_img, cv2.COLOR_BGR2GRAY)\n",
        "\n",
        "        if np.mean(gray_img) > 127:\n",
        "            gray_img = 255 - gray_img\n",
        "\n",
        "        # Resize and normalize\n",
        "        gray_img = cv2.resize(gray_img, (image_size, image_size))\n",
        "        gray_img = gray_img.reshape(1, image_size, image_size, 1) / 255.0\n",
        "\n",
        "        # Make prediction\n",
        "        prediction = model.predict(gray_img)[0]\n",
        "        if prediction[1] > prediction[0]:\n",
        "            crack_count += 1\n",
        "        else:\n",
        "            no_crack_count += 1\n",
        "\n",
        "    print(\"\\n=== Test Summary ===\")\n",
        "    print(f\"Total: {total}\")\n",
        "    print(f\"Crack: {crack_count}\")\n",
        "    print(f\"No Crack: {no_crack_count}\")\n",
        "    print(f\"Crack percentage: {crack_count / total:.2%}\")\n",
        "    print(f\"No Crack percentage: {no_crack_count / total:.2%}\")\n",
        "\n",
        "# Run\n",
        "test_accuracy_on_folder(\"/content/drive/MyDrive/Colab Notebooks/test_crack\")\n"
      ],
      "metadata": {
        "colab": {
          "base_uri": "https://localhost:8080/"
        },
        "id": "ODuGJ15eqftP",
        "outputId": "8ecaad5b-b955-4f1b-b3ad-17ceb53d930c"
      },
      "execution_count": 180,
      "outputs": [
        {
          "output_type": "stream",
          "name": "stdout",
          "text": [
            "\u001b[1m1/1\u001b[0m \u001b[32m━━━━━━━━━━━━━━━━━━━━\u001b[0m\u001b[37m\u001b[0m \u001b[1m0s\u001b[0m 320ms/step\n",
            "\u001b[1m1/1\u001b[0m \u001b[32m━━━━━━━━━━━━━━━━━━━━\u001b[0m\u001b[37m\u001b[0m \u001b[1m0s\u001b[0m 38ms/step\n",
            "\u001b[1m1/1\u001b[0m \u001b[32m━━━━━━━━━━━━━━━━━━━━\u001b[0m\u001b[37m\u001b[0m \u001b[1m0s\u001b[0m 36ms/step\n",
            "\u001b[1m1/1\u001b[0m \u001b[32m━━━━━━━━━━━━━━━━━━━━\u001b[0m\u001b[37m\u001b[0m \u001b[1m0s\u001b[0m 36ms/step\n",
            "\u001b[1m1/1\u001b[0m \u001b[32m━━━━━━━━━━━━━━━━━━━━\u001b[0m\u001b[37m\u001b[0m \u001b[1m0s\u001b[0m 35ms/step\n",
            "\u001b[1m1/1\u001b[0m \u001b[32m━━━━━━━━━━━━━━━━━━━━\u001b[0m\u001b[37m\u001b[0m \u001b[1m0s\u001b[0m 36ms/step\n",
            "\u001b[1m1/1\u001b[0m \u001b[32m━━━━━━━━━━━━━━━━━━━━\u001b[0m\u001b[37m\u001b[0m \u001b[1m0s\u001b[0m 36ms/step\n",
            "\u001b[1m1/1\u001b[0m \u001b[32m━━━━━━━━━━━━━━━━━━━━\u001b[0m\u001b[37m\u001b[0m \u001b[1m0s\u001b[0m 37ms/step\n",
            "\u001b[1m1/1\u001b[0m \u001b[32m━━━━━━━━━━━━━━━━━━━━\u001b[0m\u001b[37m\u001b[0m \u001b[1m0s\u001b[0m 36ms/step\n",
            "\u001b[1m1/1\u001b[0m \u001b[32m━━━━━━━━━━━━━━━━━━━━\u001b[0m\u001b[37m\u001b[0m \u001b[1m0s\u001b[0m 37ms/step\n",
            "\u001b[1m1/1\u001b[0m \u001b[32m━━━━━━━━━━━━━━━━━━━━\u001b[0m\u001b[37m\u001b[0m \u001b[1m0s\u001b[0m 36ms/step\n",
            "\u001b[1m1/1\u001b[0m \u001b[32m━━━━━━━━━━━━━━━━━━━━\u001b[0m\u001b[37m\u001b[0m \u001b[1m0s\u001b[0m 37ms/step\n",
            "\u001b[1m1/1\u001b[0m \u001b[32m━━━━━━━━━━━━━━━━━━━━\u001b[0m\u001b[37m\u001b[0m \u001b[1m0s\u001b[0m 36ms/step\n",
            "\u001b[1m1/1\u001b[0m \u001b[32m━━━━━━━━━━━━━━━━━━━━\u001b[0m\u001b[37m\u001b[0m \u001b[1m0s\u001b[0m 36ms/step\n",
            "\u001b[1m1/1\u001b[0m \u001b[32m━━━━━━━━━━━━━━━━━━━━\u001b[0m\u001b[37m\u001b[0m \u001b[1m0s\u001b[0m 36ms/step\n",
            "\u001b[1m1/1\u001b[0m \u001b[32m━━━━━━━━━━━━━━━━━━━━\u001b[0m\u001b[37m\u001b[0m \u001b[1m0s\u001b[0m 37ms/step\n",
            "\u001b[1m1/1\u001b[0m \u001b[32m━━━━━━━━━━━━━━━━━━━━\u001b[0m\u001b[37m\u001b[0m \u001b[1m0s\u001b[0m 36ms/step\n",
            "\u001b[1m1/1\u001b[0m \u001b[32m━━━━━━━━━━━━━━━━━━━━\u001b[0m\u001b[37m\u001b[0m \u001b[1m0s\u001b[0m 37ms/step\n",
            "\u001b[1m1/1\u001b[0m \u001b[32m━━━━━━━━━━━━━━━━━━━━\u001b[0m\u001b[37m\u001b[0m \u001b[1m0s\u001b[0m 36ms/step\n",
            "\u001b[1m1/1\u001b[0m \u001b[32m━━━━━━━━━━━━━━━━━━━━\u001b[0m\u001b[37m\u001b[0m \u001b[1m0s\u001b[0m 37ms/step\n",
            "\u001b[1m1/1\u001b[0m \u001b[32m━━━━━━━━━━━━━━━━━━━━\u001b[0m\u001b[37m\u001b[0m \u001b[1m0s\u001b[0m 37ms/step\n",
            "\u001b[1m1/1\u001b[0m \u001b[32m━━━━━━━━━━━━━━━━━━━━\u001b[0m\u001b[37m\u001b[0m \u001b[1m0s\u001b[0m 37ms/step\n",
            "\u001b[1m1/1\u001b[0m \u001b[32m━━━━━━━━━━━━━━━━━━━━\u001b[0m\u001b[37m\u001b[0m \u001b[1m0s\u001b[0m 36ms/step\n",
            "\u001b[1m1/1\u001b[0m \u001b[32m━━━━━━━━━━━━━━━━━━━━\u001b[0m\u001b[37m\u001b[0m \u001b[1m0s\u001b[0m 37ms/step\n",
            "\u001b[1m1/1\u001b[0m \u001b[32m━━━━━━━━━━━━━━━━━━━━\u001b[0m\u001b[37m\u001b[0m \u001b[1m0s\u001b[0m 37ms/step\n",
            "\u001b[1m1/1\u001b[0m \u001b[32m━━━━━━━━━━━━━━━━━━━━\u001b[0m\u001b[37m\u001b[0m \u001b[1m0s\u001b[0m 36ms/step\n",
            "\u001b[1m1/1\u001b[0m \u001b[32m━━━━━━━━━━━━━━━━━━━━\u001b[0m\u001b[37m\u001b[0m \u001b[1m0s\u001b[0m 36ms/step\n",
            "\u001b[1m1/1\u001b[0m \u001b[32m━━━━━━━━━━━━━━━━━━━━\u001b[0m\u001b[37m\u001b[0m \u001b[1m0s\u001b[0m 35ms/step\n",
            "\u001b[1m1/1\u001b[0m \u001b[32m━━━━━━━━━━━━━━━━━━━━\u001b[0m\u001b[37m\u001b[0m \u001b[1m0s\u001b[0m 38ms/step\n",
            "\u001b[1m1/1\u001b[0m \u001b[32m━━━━━━━━━━━━━━━━━━━━\u001b[0m\u001b[37m\u001b[0m \u001b[1m0s\u001b[0m 36ms/step\n",
            "\u001b[1m1/1\u001b[0m \u001b[32m━━━━━━━━━━━━━━━━━━━━\u001b[0m\u001b[37m\u001b[0m \u001b[1m0s\u001b[0m 37ms/step\n",
            "\u001b[1m1/1\u001b[0m \u001b[32m━━━━━━━━━━━━━━━━━━━━\u001b[0m\u001b[37m\u001b[0m \u001b[1m0s\u001b[0m 37ms/step\n",
            "\u001b[1m1/1\u001b[0m \u001b[32m━━━━━━━━━━━━━━━━━━━━\u001b[0m\u001b[37m\u001b[0m \u001b[1m0s\u001b[0m 36ms/step\n",
            "\u001b[1m1/1\u001b[0m \u001b[32m━━━━━━━━━━━━━━━━━━━━\u001b[0m\u001b[37m\u001b[0m \u001b[1m0s\u001b[0m 36ms/step\n",
            "\u001b[1m1/1\u001b[0m \u001b[32m━━━━━━━━━━━━━━━━━━━━\u001b[0m\u001b[37m\u001b[0m \u001b[1m0s\u001b[0m 36ms/step\n",
            "\u001b[1m1/1\u001b[0m \u001b[32m━━━━━━━━━━━━━━━━━━━━\u001b[0m\u001b[37m\u001b[0m \u001b[1m0s\u001b[0m 36ms/step\n",
            "\u001b[1m1/1\u001b[0m \u001b[32m━━━━━━━━━━━━━━━━━━━━\u001b[0m\u001b[37m\u001b[0m \u001b[1m0s\u001b[0m 35ms/step\n",
            "\u001b[1m1/1\u001b[0m \u001b[32m━━━━━━━━━━━━━━━━━━━━\u001b[0m\u001b[37m\u001b[0m \u001b[1m0s\u001b[0m 35ms/step\n",
            "\u001b[1m1/1\u001b[0m \u001b[32m━━━━━━━━━━━━━━━━━━━━\u001b[0m\u001b[37m\u001b[0m \u001b[1m0s\u001b[0m 35ms/step\n",
            "\u001b[1m1/1\u001b[0m \u001b[32m━━━━━━━━━━━━━━━━━━━━\u001b[0m\u001b[37m\u001b[0m \u001b[1m0s\u001b[0m 36ms/step\n",
            "\u001b[1m1/1\u001b[0m \u001b[32m━━━━━━━━━━━━━━━━━━━━\u001b[0m\u001b[37m\u001b[0m \u001b[1m0s\u001b[0m 35ms/step\n",
            "\u001b[1m1/1\u001b[0m \u001b[32m━━━━━━━━━━━━━━━━━━━━\u001b[0m\u001b[37m\u001b[0m \u001b[1m0s\u001b[0m 35ms/step\n",
            "\u001b[1m1/1\u001b[0m \u001b[32m━━━━━━━━━━━━━━━━━━━━\u001b[0m\u001b[37m\u001b[0m \u001b[1m0s\u001b[0m 35ms/step\n",
            "\u001b[1m1/1\u001b[0m \u001b[32m━━━━━━━━━━━━━━━━━━━━\u001b[0m\u001b[37m\u001b[0m \u001b[1m0s\u001b[0m 36ms/step\n",
            "\u001b[1m1/1\u001b[0m \u001b[32m━━━━━━━━━━━━━━━━━━━━\u001b[0m\u001b[37m\u001b[0m \u001b[1m0s\u001b[0m 36ms/step\n",
            "\u001b[1m1/1\u001b[0m \u001b[32m━━━━━━━━━━━━━━━━━━━━\u001b[0m\u001b[37m\u001b[0m \u001b[1m0s\u001b[0m 36ms/step\n",
            "\u001b[1m1/1\u001b[0m \u001b[32m━━━━━━━━━━━━━━━━━━━━\u001b[0m\u001b[37m\u001b[0m \u001b[1m0s\u001b[0m 36ms/step\n",
            "\u001b[1m1/1\u001b[0m \u001b[32m━━━━━━━━━━━━━━━━━━━━\u001b[0m\u001b[37m\u001b[0m \u001b[1m0s\u001b[0m 37ms/step\n",
            "\u001b[1m1/1\u001b[0m \u001b[32m━━━━━━━━━━━━━━━━━━━━\u001b[0m\u001b[37m\u001b[0m \u001b[1m0s\u001b[0m 36ms/step\n",
            "\u001b[1m1/1\u001b[0m \u001b[32m━━━━━━━━━━━━━━━━━━━━\u001b[0m\u001b[37m\u001b[0m \u001b[1m0s\u001b[0m 35ms/step\n",
            "\n",
            "=== Test Summary ===\n",
            "Total: 50\n",
            "Crack: 50\n",
            "No Crack: 0\n",
            "Crack percentage: 100.00%\n",
            "No Crack percentage: 0.00%\n"
          ]
        }
      ]
    }
  ]
}